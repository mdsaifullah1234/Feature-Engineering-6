{
 "cells": [
  {
   "cell_type": "markdown",
   "metadata": {},
   "source": [
    "Q1. Pearson correlation coefficient is a measure of the linear relationship between two variables. Suppose \n",
    "you have collected data on the amount of time students spend studying for an exam and their final exam \n",
    "scores. Calculate the Pearson correlation coefficient between these two variables and interpret the result."
   ]
  },
  {
   "cell_type": "markdown",
   "metadata": {},
   "source": [
    "ANS =  To calculate the Pearson correlation coefficient between the time spent studying and exam scores, you can use the formula:\n",
    "\n",
    "𝑟=𝑛(∑𝑥𝑦)−(∑𝑥)(∑𝑦)[𝑛∑𝑥2−(∑𝑥)2][𝑛∑𝑦2−(∑𝑦2r= [n∑x 2−(∑x) 2 ][n∑y 2−(∑y) 2 ]n(∑xy)−(∑x)(∑y)\n",
    "​\n",
    " \n",
    "where \n",
    "𝑛\n",
    "n is the number of data points, \n",
    "𝑥\n",
    "x is the time spent studying, \n",
    "𝑦\n",
    "y is the exam scores, \n",
    "∑\n",
    "𝑥\n",
    "𝑦\n",
    "∑xy is the sum of the product of \n",
    "𝑥\n",
    "x and \n",
    "𝑦\n",
    "y, \n",
    "∑\n",
    "𝑥\n",
    "∑x is the sum of \n",
    "𝑥\n",
    "x, \n",
    "∑\n",
    "𝑦\n",
    "∑y is the sum of \n",
    "𝑦\n",
    "y, \n",
    "∑\n",
    "𝑥\n",
    "2\n",
    "∑x \n",
    "2\n",
    "  is the sum of the squares of \n",
    "𝑥\n",
    "x, and \n",
    "∑\n",
    "𝑦\n",
    "2\n",
    "∑y \n",
    "2\n",
    "  is the sum of the squares of \n",
    "𝑦\n",
    "y.\n",
    "\n",
    "Interpretation: A Pearson correlation coefficient close to 1 indicates a strong positive linear relationship, close to -1 indicates a strong negative linear relationship, and close to 0 indicates no linear relationship."
   ]
  },
  {
   "cell_type": "markdown",
   "metadata": {},
   "source": [
    "Q2. Spearman's rank correlation is a measure of the monotonic relationship between two variables. \n",
    "Suppose you have collected data on the amount of sleep individuals get each night and their overall job \n",
    "satisfaction level on a scale of 1 to 10. Calculate the Spearman's rank correlation between these two \n",
    "variables and interpret the result"
   ]
  },
  {
   "cell_type": "markdown",
   "metadata": {},
   "source": [
    "ANS =   To calculate Spearman's rank correlation coefficient between sleep and job satisfaction, you rank the data for each variable and then calculate Pearson correlation coefficient between the ranks.\n",
    "\n",
    "Interpretation: Spearman's rank correlation coefficient close to 1 indicates a strong positive monotonic relationship, close to -1 indicates a strong negative monotonic relationship, and close to 0 indicates no monotonic relationship."
   ]
  },
  {
   "cell_type": "markdown",
   "metadata": {},
   "source": [
    "Q3. Suppose you are conducting a study to examine the relationship between the number of hours of \n",
    "exercise per week and body mass index (BMI) in a sample of adults. You collected data on both variables \n",
    "for 50 participants. Calculate the Pearson correlation coefficient and the Spearman's rank correlation \n",
    "between these two variables and compare the results."
   ]
  },
  {
   "cell_type": "markdown",
   "metadata": {},
   "source": [
    "ANS  =  For the relationship between exercise hours and BMI, calculate both Pearson and Spearman's rank correlation coefficients.\n",
    "\n",
    "Comparison: Pearson correlation coefficient is sensitive to outliers and assumes a linear relationship, while Spearman's rank correlation coefficient is less sensitive to outliers and doesn't assume a specific relationship."
   ]
  },
  {
   "cell_type": "markdown",
   "metadata": {},
   "source": [
    "Q4. A researcher is interested in examining the relationship between the number of hours individuals \n",
    "spend watching television per day and their level of physical activity. The researcher collected data on \n",
    "both variables from a sample of 50 participants. Calculate the Pearson correlation coefficient between \n",
    "these two variables"
   ]
  },
  {
   "cell_type": "markdown",
   "metadata": {},
   "source": [
    "ANS  = Calculate the Pearson correlation coefficient between TV watching hours and physical activity level."
   ]
  },
  {
   "cell_type": "markdown",
   "metadata": {},
   "source": [
    "Q5. A survey was conducted to examine the relationship between age and preference for a particular \n",
    "brand of soft drink. The survey results are shown below:    \n",
    "\n",
    "Age(Years)                 Soft drink Preference\n",
    "25                             Coke\n",
    "42                             Pepsi\n",
    "37                             Mountain dew\n",
    "19                             coke\n",
    "31                             Pepsi\n",
    "28                             coke "
   ]
  },
  {
   "cell_type": "markdown",
   "metadata": {},
   "source": [
    "ANS  = Since soft drink preference is a nominal categorical variable and age is a numerical variable, you cannot calculate Pearson correlation coefficient. Instead, you could use methods like chi-square test to examine the relationship."
   ]
  },
  {
   "cell_type": "markdown",
   "metadata": {},
   "source": [
    "Q6. A company is interested in examining the relationship between the number of sales calls made per day \n",
    "and the number of sales made per week. The company collected data on both variables from a sample of \n",
    "30 sales representatives. Calculate the Pearson correlation coefficient between these two variables."
   ]
  },
  {
   "cell_type": "markdown",
   "metadata": {},
   "source": [
    "ANS  = Calculate the Pearson correlation coefficient between the number of sales calls and sales made per week."
   ]
  }
 ],
 "metadata": {
  "language_info": {
   "name": "python"
  }
 },
 "nbformat": 4,
 "nbformat_minor": 2
}
